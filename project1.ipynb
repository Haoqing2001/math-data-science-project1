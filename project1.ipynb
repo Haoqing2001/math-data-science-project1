{
  "nbformat": 4,
  "nbformat_minor": 0,
  "metadata": {
    "colab": {
      "provenance": []
    },
    "kernelspec": {
      "name": "python3",
      "display_name": "Python 3"
    },
    "language_info": {
      "name": "python"
    }
  },
  "cells": [
    {
      "cell_type": "markdown",
      "source": [
        "Math 5750/6880: Mathematics of Data Science \\\\\n",
        "Project 1"
      ],
      "metadata": {
        "id": "9fm9P3VE85Y3"
      }
    },
    {
      "cell_type": "markdown",
      "source": [
        "# 3. Python and Google Colab\n",
        "Project Euler Problem  \n",
        "https://projecteuler.net/"
      ],
      "metadata": {
        "id": "voDhElnJXDro"
      }
    },
    {
      "cell_type": "code",
      "source": [
        "# your code here\n",
        "sum = 2;\n",
        "prePrevious = 1;\n",
        "previous = 2;\n",
        "\n",
        "while(prePrevious + previous <= 4000000):\n",
        "    if((prePrevious + previous) % 2 == 0):\n",
        "        sum += prePrevious + previous;\n",
        "    prePrevious, previous = previous, prePrevious + previous\n",
        "\n",
        "print(sum);"
      ],
      "metadata": {
        "id": "y_e6lM_NEwwD"
      },
      "execution_count": null,
      "outputs": []
    },
    {
      "cell_type": "markdown",
      "source": [
        "# 4. Regression Analysis\n",
        "California housing data  \n",
        "https://scikit-learn.org/stable/datasets/real_world.html#california-housing-dataset\n"
      ],
      "metadata": {
        "id": "riLtqhJEXNOQ"
      }
    },
    {
      "cell_type": "code",
      "source": [
        "import numpy as np\n",
        "import matplotlib.pyplot as plt\n",
        "import pandas as pd\n",
        "from sklearn.datasets import fetch_california_housing\n",
        "from sklearn.model_selection import train_test_split\n",
        "\n",
        "from sklearn.pipeline import Pipeline\n",
        "from sklearn.preprocessing import StandardScaler\n",
        "from sklearn.linear_model import LinearRegression, Ridge, Lasso\n",
        "from sklearn.metrics import r2_score, mean_absolute_error, mean_squared_error"
      ],
      "metadata": {
        "id": "5gtRmgu1kL6x"
      },
      "execution_count": 2,
      "outputs": []
    },
    {
      "cell_type": "code",
      "source": [
        "# Load the California housing data\n",
        "cal = fetch_california_housing(as_frame=True)\n",
        "X, y = cal.data, cal.target\n",
        "feature_names = X.columns\n",
        "print(feature_names)\n",
        "\n",
        "# Train/test split\n",
        "X_train, X_test, y_train, y_test = train_test_split(X, y, test_size=0.20, random_state=0)"
      ],
      "metadata": {
        "id": "YdjNvnAGkRpe",
        "colab": {
          "base_uri": "https://localhost:8080/"
        },
        "outputId": "d8a4368d-b656-44aa-bd09-6d31656d2b3e"
      },
      "execution_count": 3,
      "outputs": [
        {
          "output_type": "stream",
          "name": "stdout",
          "text": [
            "Index(['MedInc', 'HouseAge', 'AveRooms', 'AveBedrms', 'Population', 'AveOccup',\n",
            "       'Latitude', 'Longitude'],\n",
            "      dtype='object')\n"
          ]
        }
      ]
    },
    {
      "cell_type": "code",
      "source": [
        "# your code here\n",
        "# ----------- OSL -----------\n",
        "model = LinearRegression()\n",
        "model.fit(X_train, y_train)\n",
        "\n",
        "y_pred_train = model.predict(X_train)\n",
        "y_pred_test = model.predict(X_test)\n",
        "\n",
        "# table for coefficients\n",
        "features_df = pd.DataFrame({\n",
        "    'Feature': ['Intercept'] + X.columns.tolist(),\n",
        "    'Coefficient': [model.intercept_] + list(model.coef_)\n",
        "})\n",
        "features_df['Abs_Coefficient'] = features_df['Coefficient'].abs()\n",
        "\n",
        "sorted_coef_df = features_df.sort_values('Abs_Coefficient', ascending=False)\n",
        "\n",
        "print(sorted_coef_df[['Feature', 'Coefficient']].to_string(index=False))\n",
        "print()\n",
        "\n",
        "# table for Model Performance Metrics\n",
        "train_rmse = np.sqrt(mean_squared_error(y_train, y_pred_train))\n",
        "test_rmse = np.sqrt(mean_squared_error(y_test, y_pred_test))\n",
        "train_mae = mean_absolute_error(y_train, y_pred_train)\n",
        "test_mae = mean_absolute_error(y_test, y_pred_test)\n",
        "train_r2 = r2_score(y_train, y_pred_train)\n",
        "test_r2 = r2_score(y_test, y_pred_test)\n",
        "\n",
        "metrics = pd.DataFrame({\n",
        "    'Dataset': ['Train', 'Test'],\n",
        "    'RMSE': [train_rmse, test_rmse],\n",
        "    'MAE': [train_mae, test_mae],\n",
        "    'R^2': [train_r2, test_r2]\n",
        "})\n",
        "\n",
        "print(metrics.to_string(index=False))\n",
        "print()\n",
        "\n",
        "# ----------- Ridge Regression -----------\n",
        "ridge_model = Ridge(alpha=1.0)\n",
        "ridge_model.fit(X_train, y_train)\n",
        "\n",
        "y_pred_train_ridge = ridge_model.predict(X_train)\n",
        "y_pred_test_ridge = ridge_model.predict(X_test)\n",
        "\n",
        "# table for coefficients\n",
        "ridge_features_df = pd.DataFrame({\n",
        "    'Feature': ['Intercept'] + X.columns.tolist(),\n",
        "    'Coefficient': [ridge_model.intercept_] + list(ridge_model.coef_)\n",
        "})\n",
        "ridge_features_df['Abs_Coefficient'] = ridge_features_df['Coefficient'].abs()\n",
        "\n",
        "ridge_sorted_coef_df = ridge_features_df.sort_values('Abs_Coefficient', ascending=False)\n",
        "\n",
        "print(ridge_sorted_coef_df[['Feature', 'Coefficient']].to_string(index=False))\n",
        "\n",
        "# table for Model Performance Metrics\n",
        "ridge_train_rmse = np.sqrt(mean_squared_error(y_train, y_pred_train_ridge))\n",
        "ridge_test_rmse = np.sqrt(mean_squared_error(y_test, y_pred_test_ridge))\n",
        "ridge_train_mae = mean_absolute_error(y_train, y_pred_train_ridge)\n",
        "ridge_test_mae = mean_absolute_error(y_test, y_pred_test_ridge)\n",
        "ridge_train_r2 = r2_score(y_train, y_pred_train_ridge)\n",
        "ridge_test_r2 = r2_score(y_test, y_pred_test_ridge)\n",
        "\n",
        "ridge_metrics = pd.DataFrame({\n",
        "    'Dataset': ['Train', 'Test'],\n",
        "    'RMSE': [ridge_train_rmse, ridge_test_rmse],\n",
        "    'MAE': [ridge_train_mae, ridge_test_mae],\n",
        "    'R^2': [ridge_train_r2, ridge_test_r2]\n",
        "})\n",
        "\n",
        "print(ridge_metrics.to_string(index=False))\n",
        "\n",
        "# ----------- Lasso Regression -----------\n",
        "lasso_model = Lasso(alpha=0.1)\n",
        "lasso_model.fit(X_train, y_train)\n",
        "\n",
        "y_pred_train_lasso = lasso_model.predict(X_train)\n",
        "y_pred_test_lasso = lasso_model.predict(X_test)\n",
        "\n",
        "# table for coefficients\n",
        "lasso_features_df = pd.DataFrame({\n",
        "    'Feature': ['Intercept'] + X.columns.tolist(),\n",
        "    'Coefficient': [lasso_model.intercept_] + list(lasso_model.coef_)\n",
        "})\n",
        "lasso_features_df['Abs_Coefficient'] = lasso_features_df['Coefficient'].abs()\n",
        "\n",
        "lasso_sorted_coef_df = lasso_features_df.sort_values('Abs_Coefficient', ascending=False)\n",
        "\n",
        "print(lasso_sorted_coef_df[['Feature', 'Coefficient']].to_string(index=False))\n",
        "\n",
        "# table for Model Performance Metrics\n",
        "lasso_train_rmse = np.sqrt(mean_squared_error(y_train, y_pred_train_lasso))\n",
        "lasso_test_rmse = np.sqrt(mean_squared_error(y_test, y_pred_test_lasso))\n",
        "lasso_train_mae = mean_absolute_error(y_train, y_pred_train_lasso)\n",
        "lasso_test_mae = mean_absolute_error(y_test, y_pred_test_lasso)\n",
        "lasso_train_r2 = r2_score(y_train, y_pred_train_lasso)\n",
        "lasso_test_r2 = r2_score(y_test, y_pred_test_lasso)\n",
        "\n",
        "lasso_metrics = pd.DataFrame({\n",
        "    'Dataset': ['Train', 'Test'],\n",
        "    'RMSE': [lasso_train_rmse, lasso_test_rmse],\n",
        "    'MAE': [lasso_train_mae, lasso_test_mae],\n",
        "    'R^2': [lasso_train_r2, lasso_test_r2]\n",
        "})\n",
        "\n",
        "print(lasso_metrics.to_string(index=False))\n",
        "\n"
      ],
      "metadata": {
        "id": "PEYTEFsSXMk2",
        "outputId": "acc4742c-f816-48f9-a1da-23d070f35708",
        "colab": {
          "base_uri": "https://localhost:8080/"
        }
      },
      "execution_count": 4,
      "outputs": [
        {
          "output_type": "stream",
          "name": "stdout",
          "text": [
            "   Feature  Coefficient\n",
            " Intercept   -36.858569\n",
            " AveBedrms     0.593215\n",
            " Longitude    -0.434166\n",
            "    MedInc     0.433333\n",
            "  Latitude    -0.421449\n",
            "  AveRooms    -0.098643\n",
            "  HouseAge     0.009293\n",
            "  AveOccup    -0.004745\n",
            "Population    -0.000008\n",
            "\n",
            "Dataset     RMSE      MAE      R^2\n",
            "  Train 0.723492 0.530874 0.608897\n",
            "   Test 0.727313 0.535126 0.594323\n",
            "\n",
            "   Feature  Coefficient\n",
            " Intercept   -36.854127\n",
            " AveBedrms     0.592088\n",
            " Longitude    -0.434125\n",
            "    MedInc     0.433222\n",
            "  Latitude    -0.421424\n",
            "  AveRooms    -0.098428\n",
            "  HouseAge     0.009295\n",
            "  AveOccup    -0.004746\n",
            "Population    -0.000008\n",
            "Dataset     RMSE      MAE      R^2\n",
            "  Train 0.723493 0.530884 0.608897\n",
            "   Test 0.727327 0.535139 0.594308\n",
            "   Feature  Coefficient\n",
            " Intercept    -7.397906\n",
            "    MedInc     0.392703\n",
            "  Latitude    -0.110580\n",
            " Longitude    -0.095754\n",
            "  HouseAge     0.015028\n",
            "  AveOccup    -0.003972\n",
            "Population     0.000015\n",
            " AveBedrms     0.000000\n",
            "  AveRooms    -0.000000\n",
            "Dataset     RMSE      MAE      R^2\n",
            "  Train 0.776642 0.579021 0.549323\n",
            "   Test 0.787156 0.587164 0.524819\n"
          ]
        }
      ]
    },
    {
      "cell_type": "markdown",
      "source": [
        "# 5. Classification Analysis\n",
        "Diagnostic Wisconsin Breast Cancer Database  \n",
        "https://scikit-learn.org/stable/datasets/toy_dataset.html#breast-cancer-dataset"
      ],
      "metadata": {
        "id": "QkSVMB7HXSZB"
      }
    },
    {
      "cell_type": "code",
      "source": [
        "import numpy as np\n",
        "import pandas as pd\n",
        "import matplotlib.pyplot as plt\n",
        "from sklearn.datasets import load_breast_cancer\n",
        "from sklearn.model_selection import train_test_split\n",
        "from sklearn.preprocessing import StandardScaler"
      ],
      "metadata": {
        "id": "vUfQhEk7zQBX"
      },
      "execution_count": null,
      "outputs": []
    },
    {
      "cell_type": "code",
      "source": [
        "# Load Breast Cancer Wisconsin Dataset\n",
        "data = load_breast_cancer(as_frame=True)\n",
        "X = data.data\n",
        "y = data.target                  # 0 = malignant, 1 = benign\n",
        "feature_names = X.columns\n",
        "label_names = {0: \"malignant\", 1: \"benign\"}\n",
        "print(feature_names)\n",
        "\n",
        "# Train/Test Split (stratified to preserve class balance)\n",
        "X_train, X_test, y_train, y_test = train_test_split(X, y, test_size=0.20, random_state=0, stratify=y)\n",
        "\n",
        "# Preprocess Data (fit on train ONLY; then transform both)\n",
        "scaler = StandardScaler(with_mean=True, with_std=True)\n",
        "X_train_std = scaler.fit_transform(X_train)   # fit on train\n",
        "X_test_std  = scaler.transform(X_test)        # transform test with train stats"
      ],
      "metadata": {
        "colab": {
          "base_uri": "https://localhost:8080/"
        },
        "id": "IGeihULRzZxD",
        "outputId": "b7cff0d4-9149-4208-c92c-6fedb809d25b"
      },
      "execution_count": null,
      "outputs": [
        {
          "output_type": "stream",
          "name": "stdout",
          "text": [
            "Index(['mean radius', 'mean texture', 'mean perimeter', 'mean area',\n",
            "       'mean smoothness', 'mean compactness', 'mean concavity',\n",
            "       'mean concave points', 'mean symmetry', 'mean fractal dimension',\n",
            "       'radius error', 'texture error', 'perimeter error', 'area error',\n",
            "       'smoothness error', 'compactness error', 'concavity error',\n",
            "       'concave points error', 'symmetry error', 'fractal dimension error',\n",
            "       'worst radius', 'worst texture', 'worst perimeter', 'worst area',\n",
            "       'worst smoothness', 'worst compactness', 'worst concavity',\n",
            "       'worst concave points', 'worst symmetry', 'worst fractal dimension'],\n",
            "      dtype='object')\n"
          ]
        }
      ]
    },
    {
      "cell_type": "code",
      "source": [
        "# your code here"
      ],
      "metadata": {
        "id": "QUYeDq2ZXY2x"
      },
      "execution_count": null,
      "outputs": []
    }
  ]
}